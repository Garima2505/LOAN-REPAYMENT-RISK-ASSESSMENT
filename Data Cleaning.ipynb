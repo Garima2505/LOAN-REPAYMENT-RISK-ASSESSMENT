{
 "cells": [
  {
   "cell_type": "markdown",
   "metadata": {},
   "source": [
    "# Data Cleaning"
   ]
  },
  {
   "cell_type": "code",
   "execution_count": 1,
   "metadata": {},
   "outputs": [],
   "source": [
    "from pyspark.sql import SparkSession"
   ]
  },
  {
   "cell_type": "code",
   "execution_count": 2,
   "metadata": {},
   "outputs": [],
   "source": [
    "spark = SparkSession.builder.appName('DataCleaning').getOrCreate()"
   ]
  },
  {
   "cell_type": "markdown",
   "metadata": {},
   "source": [
    "# Read Data. \n",
    "The data is of accepted applicants for loan from year 2007 to 2019 third quarter of Lending Club from Kaggle."
   ]
  },
  {
   "cell_type": "code",
   "execution_count": 3,
   "metadata": {},
   "outputs": [
    {
     "name": "stdout",
     "output_type": "stream",
     "text": [
      "root\n",
      " |-- id: string (nullable = true)\n",
      " |-- member_id: string (nullable = true)\n",
      " |-- loan_amnt: double (nullable = true)\n",
      " |-- funded_amnt: double (nullable = true)\n",
      " |-- funded_amnt_inv: double (nullable = true)\n",
      " |-- term: string (nullable = true)\n",
      " |-- int_rate: string (nullable = true)\n",
      " |-- installment: double (nullable = true)\n",
      " |-- grade: string (nullable = true)\n",
      " |-- sub_grade: string (nullable = true)\n",
      " |-- emp_title: string (nullable = true)\n",
      " |-- emp_length: string (nullable = true)\n",
      " |-- home_ownership: string (nullable = true)\n",
      " |-- annual_inc: string (nullable = true)\n",
      " |-- verification_status: string (nullable = true)\n",
      " |-- issue_d: string (nullable = true)\n",
      " |-- loan_status: string (nullable = true)\n",
      " |-- pymnt_plan: string (nullable = true)\n",
      " |-- url: string (nullable = true)\n",
      " |-- desc: string (nullable = true)\n",
      " |-- purpose: string (nullable = true)\n",
      " |-- title: string (nullable = true)\n",
      " |-- zip_code: string (nullable = true)\n",
      " |-- addr_state: string (nullable = true)\n",
      " |-- dti: string (nullable = true)\n",
      " |-- delinq_2yrs: string (nullable = true)\n",
      " |-- earliest_cr_line: string (nullable = true)\n",
      " |-- fico_range_low: string (nullable = true)\n",
      " |-- fico_range_high: string (nullable = true)\n",
      " |-- inq_last_6mths: string (nullable = true)\n",
      " |-- mths_since_last_delinq: string (nullable = true)\n",
      " |-- mths_since_last_record: string (nullable = true)\n",
      " |-- open_acc: string (nullable = true)\n",
      " |-- pub_rec: string (nullable = true)\n",
      " |-- revol_bal: string (nullable = true)\n",
      " |-- revol_util: string (nullable = true)\n",
      " |-- total_acc: string (nullable = true)\n",
      " |-- initial_list_status: string (nullable = true)\n",
      " |-- out_prncp: string (nullable = true)\n",
      " |-- out_prncp_inv: string (nullable = true)\n",
      " |-- total_pymnt: string (nullable = true)\n",
      " |-- total_pymnt_inv: string (nullable = true)\n",
      " |-- total_rec_prncp: string (nullable = true)\n",
      " |-- total_rec_int: string (nullable = true)\n",
      " |-- total_rec_late_fee: string (nullable = true)\n",
      " |-- recoveries: string (nullable = true)\n",
      " |-- collection_recovery_fee: string (nullable = true)\n",
      " |-- last_pymnt_d: string (nullable = true)\n",
      " |-- last_pymnt_amnt: string (nullable = true)\n",
      " |-- next_pymnt_d: string (nullable = true)\n",
      " |-- last_credit_pull_d: string (nullable = true)\n",
      " |-- last_fico_range_high: string (nullable = true)\n",
      " |-- last_fico_range_low: string (nullable = true)\n",
      " |-- collections_12_mths_ex_med: string (nullable = true)\n",
      " |-- mths_since_last_major_derog: string (nullable = true)\n",
      " |-- policy_code: string (nullable = true)\n",
      " |-- application_type: string (nullable = true)\n",
      " |-- annual_inc_joint: string (nullable = true)\n",
      " |-- dti_joint: string (nullable = true)\n",
      " |-- verification_status_joint: string (nullable = true)\n",
      " |-- acc_now_delinq: string (nullable = true)\n",
      " |-- tot_coll_amt: string (nullable = true)\n",
      " |-- tot_cur_bal: string (nullable = true)\n",
      " |-- open_acc_6m: string (nullable = true)\n",
      " |-- open_act_il: string (nullable = true)\n",
      " |-- open_il_12m: string (nullable = true)\n",
      " |-- open_il_24m: string (nullable = true)\n",
      " |-- mths_since_rcnt_il: string (nullable = true)\n",
      " |-- total_bal_il: string (nullable = true)\n",
      " |-- il_util: string (nullable = true)\n",
      " |-- open_rv_12m: string (nullable = true)\n",
      " |-- open_rv_24m: string (nullable = true)\n",
      " |-- max_bal_bc: string (nullable = true)\n",
      " |-- all_util: string (nullable = true)\n",
      " |-- total_rev_hi_lim: string (nullable = true)\n",
      " |-- inq_fi: string (nullable = true)\n",
      " |-- total_cu_tl: string (nullable = true)\n",
      " |-- inq_last_12m: double (nullable = true)\n",
      " |-- acc_open_past_24mths: double (nullable = true)\n",
      " |-- avg_cur_bal: string (nullable = true)\n",
      " |-- bc_open_to_buy: double (nullable = true)\n",
      " |-- bc_util: string (nullable = true)\n",
      " |-- chargeoff_within_12_mths: double (nullable = true)\n",
      " |-- delinq_amnt: double (nullable = true)\n",
      " |-- mo_sin_old_il_acct: double (nullable = true)\n",
      " |-- mo_sin_old_rev_tl_op: double (nullable = true)\n",
      " |-- mo_sin_rcnt_rev_tl_op: double (nullable = true)\n",
      " |-- mo_sin_rcnt_tl: double (nullable = true)\n",
      " |-- mort_acc: double (nullable = true)\n",
      " |-- mths_since_recent_bc: double (nullable = true)\n",
      " |-- mths_since_recent_bc_dlq: double (nullable = true)\n",
      " |-- mths_since_recent_inq: double (nullable = true)\n",
      " |-- mths_since_recent_revol_delinq: double (nullable = true)\n",
      " |-- num_accts_ever_120_pd: double (nullable = true)\n",
      " |-- num_actv_bc_tl: double (nullable = true)\n",
      " |-- num_actv_rev_tl: double (nullable = true)\n",
      " |-- num_bc_sats: double (nullable = true)\n",
      " |-- num_bc_tl: double (nullable = true)\n",
      " |-- num_il_tl: double (nullable = true)\n",
      " |-- num_op_rev_tl: double (nullable = true)\n",
      " |-- num_rev_accts: double (nullable = true)\n",
      " |-- num_rev_tl_bal_gt_0: double (nullable = true)\n",
      " |-- num_sats: double (nullable = true)\n",
      " |-- num_tl_120dpd_2m: double (nullable = true)\n",
      " |-- num_tl_30dpd: double (nullable = true)\n",
      " |-- num_tl_90g_dpd_24m: double (nullable = true)\n",
      " |-- num_tl_op_past_12m: double (nullable = true)\n",
      " |-- pct_tl_nvr_dlq: double (nullable = true)\n",
      " |-- percent_bc_gt_75: double (nullable = true)\n",
      " |-- pub_rec_bankruptcies: double (nullable = true)\n",
      " |-- tax_liens: double (nullable = true)\n",
      " |-- tot_hi_cred_lim: double (nullable = true)\n",
      " |-- total_bal_ex_mort: double (nullable = true)\n",
      " |-- total_bc_limit: double (nullable = true)\n",
      " |-- total_il_high_credit_limit: double (nullable = true)\n",
      " |-- revol_bal_joint: double (nullable = true)\n",
      " |-- sec_app_fico_range_low: double (nullable = true)\n",
      " |-- sec_app_fico_range_high: double (nullable = true)\n",
      " |-- sec_app_earliest_cr_line: string (nullable = true)\n",
      " |-- sec_app_inq_last_6mths: double (nullable = true)\n",
      " |-- sec_app_mort_acc: double (nullable = true)\n",
      " |-- sec_app_open_acc: double (nullable = true)\n",
      " |-- sec_app_revol_util: double (nullable = true)\n",
      " |-- sec_app_open_act_il: double (nullable = true)\n",
      " |-- sec_app_num_rev_accts: double (nullable = true)\n",
      " |-- sec_app_chargeoff_within_12_mths: double (nullable = true)\n",
      " |-- sec_app_collections_12_mths_ex_med: double (nullable = true)\n",
      " |-- sec_app_mths_since_last_major_derog: double (nullable = true)\n",
      " |-- hardship_flag: string (nullable = true)\n",
      " |-- hardship_type: string (nullable = true)\n",
      " |-- hardship_reason: string (nullable = true)\n",
      " |-- hardship_status: string (nullable = true)\n",
      " |-- deferral_term: string (nullable = true)\n",
      " |-- hardship_amount: string (nullable = true)\n",
      " |-- hardship_start_date: string (nullable = true)\n",
      " |-- hardship_end_date: string (nullable = true)\n",
      " |-- payment_plan_start_date: string (nullable = true)\n",
      " |-- hardship_length: string (nullable = true)\n",
      " |-- hardship_dpd: string (nullable = true)\n",
      " |-- hardship_loan_status: string (nullable = true)\n",
      " |-- orig_projected_additional_accrued_interest: string (nullable = true)\n",
      " |-- hardship_payoff_balance_amount: string (nullable = true)\n",
      " |-- hardship_last_payment_amount: string (nullable = true)\n",
      " |-- debt_settlement_flag: string (nullable = true)\n",
      " |-- debt_settlement_flag_date: string (nullable = true)\n",
      " |-- settlement_status: string (nullable = true)\n",
      " |-- settlement_date: string (nullable = true)\n",
      " |-- settlement_amount: string (nullable = true)\n",
      " |-- settlement_percentage: string (nullable = true)\n",
      " |-- settlement_term: string (nullable = true)\n",
      "\n"
     ]
    }
   ],
   "source": [
    "applicants_data = spark.read.csv('Data/appl_accepted_20072019Q3.csv', header = True, inferSchema = True)\n",
    "applicants_data.printSchema()"
   ]
  },
  {
   "cell_type": "code",
   "execution_count": 4,
   "metadata": {},
   "outputs": [],
   "source": [
    "# total rows\n",
    "total_rows = applicants_data.count()"
   ]
  },
  {
   "cell_type": "code",
   "execution_count": 5,
   "metadata": {},
   "outputs": [
    {
     "name": "stdout",
     "output_type": "stream",
     "text": [
      "Number of Columns: 150\n",
      "Number of Rows: 2650550\n"
     ]
    }
   ],
   "source": [
    "print(f'Number of Columns: {len(applicants_data.columns)}')\n",
    "print(f'Number of Rows: {total_rows}')"
   ]
  },
  {
   "cell_type": "markdown",
   "metadata": {},
   "source": [
    "# Check Null Values in Columns"
   ]
  },
  {
   "cell_type": "markdown",
   "metadata": {},
   "source": [
    "Finding what percentage of each columns are null values, allows us to safely remove the columns."
   ]
  },
  {
   "cell_type": "code",
   "execution_count": 6,
   "metadata": {},
   "outputs": [],
   "source": [
    "import pyspark.sql.functions as f"
   ]
  },
  {
   "cell_type": "code",
   "execution_count": 7,
   "metadata": {},
   "outputs": [],
   "source": [
    "data_null = applicants_data.agg(*[f.count(f.when(f.isnull(c), c)).alias(c) for c in applicants_data.columns[:]])"
   ]
  },
  {
   "cell_type": "markdown",
   "metadata": {},
   "source": [
    "Percentage of Null Values in each Columns:"
   ]
  },
  {
   "cell_type": "code",
   "execution_count": 8,
   "metadata": {},
   "outputs": [],
   "source": [
    "null_values = data_null.head(1)[0]\n",
    "null_values_dict = null_values.asDict()"
   ]
  },
  {
   "cell_type": "code",
   "execution_count": 9,
   "metadata": {},
   "outputs": [
    {
     "name": "stdout",
     "output_type": "stream",
     "text": [
      "Percentage of columns have null value: \n"
     ]
    },
    {
     "data": {
      "text/plain": [
       "{'id': 0,\n",
       " 'member_id': 100,\n",
       " 'loan_amnt': 0,\n",
       " 'funded_amnt': 0,\n",
       " 'funded_amnt_inv': 0,\n",
       " 'term': 0,\n",
       " 'int_rate': 0,\n",
       " 'installment': 0,\n",
       " 'grade': 0,\n",
       " 'sub_grade': 0,\n",
       " 'emp_title': 8,\n",
       " 'emp_length': 6,\n",
       " 'home_ownership': 0,\n",
       " 'annual_inc': 0,\n",
       " 'verification_status': 0,\n",
       " 'issue_d': 0,\n",
       " 'loan_status': 0,\n",
       " 'pymnt_plan': 0,\n",
       " 'url': 0,\n",
       " 'desc': 95,\n",
       " 'purpose': 0,\n",
       " 'title': 0,\n",
       " 'zip_code': 0,\n",
       " 'addr_state': 0,\n",
       " 'dti': 0,\n",
       " 'delinq_2yrs': 0,\n",
       " 'earliest_cr_line': 0,\n",
       " 'fico_range_low': 0,\n",
       " 'fico_range_high': 0,\n",
       " 'inq_last_6mths': 0,\n",
       " 'mths_since_last_delinq': 52,\n",
       " 'mths_since_last_record': 84,\n",
       " 'open_acc': 0,\n",
       " 'pub_rec': 0,\n",
       " 'revol_bal': 0,\n",
       " 'revol_util': 0,\n",
       " 'total_acc': 0,\n",
       " 'initial_list_status': 0,\n",
       " 'out_prncp': 0,\n",
       " 'out_prncp_inv': 0,\n",
       " 'total_pymnt': 0,\n",
       " 'total_pymnt_inv': 0,\n",
       " 'total_rec_prncp': 0,\n",
       " 'total_rec_int': 0,\n",
       " 'total_rec_late_fee': 0,\n",
       " 'recoveries': 0,\n",
       " 'collection_recovery_fee': 0,\n",
       " 'last_pymnt_d': 0,\n",
       " 'last_pymnt_amnt': 0,\n",
       " 'next_pymnt_d': 52,\n",
       " 'last_credit_pull_d': 0,\n",
       " 'last_fico_range_high': 0,\n",
       " 'last_fico_range_low': 0,\n",
       " 'collections_12_mths_ex_med': 0,\n",
       " 'mths_since_last_major_derog': 74,\n",
       " 'policy_code': 0,\n",
       " 'application_type': 0,\n",
       " 'annual_inc_joint': 93,\n",
       " 'dti_joint': 93,\n",
       " 'verification_status_joint': 93,\n",
       " 'acc_now_delinq': 0,\n",
       " 'tot_coll_amt': 2,\n",
       " 'tot_cur_bal': 2,\n",
       " 'open_acc_6m': 32,\n",
       " 'open_act_il': 32,\n",
       " 'open_il_12m': 32,\n",
       " 'open_il_24m': 32,\n",
       " 'mths_since_rcnt_il': 34,\n",
       " 'total_bal_il': 32,\n",
       " 'il_util': 42,\n",
       " 'open_rv_12m': 32,\n",
       " 'open_rv_24m': 32,\n",
       " 'max_bal_bc': 32,\n",
       " 'all_util': 32,\n",
       " 'total_rev_hi_lim': 2,\n",
       " 'inq_fi': 32,\n",
       " 'total_cu_tl': 32,\n",
       " 'inq_last_12m': 32,\n",
       " 'acc_open_past_24mths': 1,\n",
       " 'avg_cur_bal': 2,\n",
       " 'bc_open_to_buy': 3,\n",
       " 'bc_util': 3,\n",
       " 'chargeoff_within_12_mths': 0,\n",
       " 'delinq_amnt': 0,\n",
       " 'mo_sin_old_il_acct': 5,\n",
       " 'mo_sin_old_rev_tl_op': 2,\n",
       " 'mo_sin_rcnt_rev_tl_op': 2,\n",
       " 'mo_sin_rcnt_tl': 2,\n",
       " 'mort_acc': 1,\n",
       " 'mths_since_recent_bc': 2,\n",
       " 'mths_since_recent_bc_dlq': 77,\n",
       " 'mths_since_recent_inq': 12,\n",
       " 'mths_since_recent_revol_delinq': 67,\n",
       " 'num_accts_ever_120_pd': 2,\n",
       " 'num_actv_bc_tl': 2,\n",
       " 'num_actv_rev_tl': 2,\n",
       " 'num_bc_sats': 2,\n",
       " 'num_bc_tl': 2,\n",
       " 'num_il_tl': 2,\n",
       " 'num_op_rev_tl': 2,\n",
       " 'num_rev_accts': 2,\n",
       " 'num_rev_tl_bal_gt_0': 2,\n",
       " 'num_sats': 2,\n",
       " 'num_tl_120dpd_2m': 6,\n",
       " 'num_tl_30dpd': 2,\n",
       " 'num_tl_90g_dpd_24m': 2,\n",
       " 'num_tl_op_past_12m': 2,\n",
       " 'pct_tl_nvr_dlq': 2,\n",
       " 'percent_bc_gt_75': 3,\n",
       " 'pub_rec_bankruptcies': 0,\n",
       " 'tax_liens': 0,\n",
       " 'tot_hi_cred_lim': 2,\n",
       " 'total_bal_ex_mort': 1,\n",
       " 'total_bc_limit': 1,\n",
       " 'total_il_high_credit_limit': 2,\n",
       " 'revol_bal_joint': 93,\n",
       " 'sec_app_fico_range_low': 93,\n",
       " 'sec_app_fico_range_high': 93,\n",
       " 'sec_app_earliest_cr_line': 93,\n",
       " 'sec_app_inq_last_6mths': 93,\n",
       " 'sec_app_mort_acc': 93,\n",
       " 'sec_app_open_acc': 93,\n",
       " 'sec_app_revol_util': 93,\n",
       " 'sec_app_open_act_il': 93,\n",
       " 'sec_app_num_rev_accts': 93,\n",
       " 'sec_app_chargeoff_within_12_mths': 93,\n",
       " 'sec_app_collections_12_mths_ex_med': 93,\n",
       " 'sec_app_mths_since_last_major_derog': 98,\n",
       " 'hardship_flag': 0,\n",
       " 'hardship_type': 99,\n",
       " 'hardship_reason': 99,\n",
       " 'hardship_status': 99,\n",
       " 'deferral_term': 99,\n",
       " 'hardship_amount': 99,\n",
       " 'hardship_start_date': 99,\n",
       " 'hardship_end_date': 99,\n",
       " 'payment_plan_start_date': 99,\n",
       " 'hardship_length': 99,\n",
       " 'hardship_dpd': 99,\n",
       " 'hardship_loan_status': 99,\n",
       " 'orig_projected_additional_accrued_interest': 99,\n",
       " 'hardship_payoff_balance_amount': 99,\n",
       " 'hardship_last_payment_amount': 99,\n",
       " 'debt_settlement_flag': 0,\n",
       " 'debt_settlement_flag_date': 98,\n",
       " 'settlement_status': 98,\n",
       " 'settlement_date': 98,\n",
       " 'settlement_amount': 98,\n",
       " 'settlement_percentage': 98,\n",
       " 'settlement_term': 98}"
      ]
     },
     "execution_count": 9,
     "metadata": {},
     "output_type": "execute_result"
    }
   ],
   "source": [
    "for i in null_values_dict.keys():\n",
    "    null_values_dict[i] = (null_values_dict[i]*100 // total_rows)\n",
    "print('Percentage of columns have null value: ')\n",
    "null_values_dict"
   ]
  },
  {
   "cell_type": "markdown",
   "metadata": {},
   "source": [
    "## Remove columns"
   ]
  },
  {
   "cell_type": "markdown",
   "metadata": {},
   "source": [
    "Columns that have null values greater than 25% can be safely removed"
   ]
  },
  {
   "cell_type": "markdown",
   "metadata": {},
   "source": [
    "### Analysing Columns to remove :"
   ]
  },
  {
   "cell_type": "markdown",
   "metadata": {},
   "source": [
    "* The 'member_id' does not have any value. So we can remove it. We can also remove 'id' as is in an indexer and all the values are unique.\n",
    "* Columns like 'url', 'desc', 'purpose', 'title' can also be removed as this can be arbitary values.\n",
    "* Removing cloumns related to joint account, hardship plans, secondary applicant as we want to address only individual applicants \n",
    "* Also removing some unwanted columns or columns that have redundant data"
   ]
  },
  {
   "cell_type": "code",
   "execution_count": 10,
   "metadata": {},
   "outputs": [
    {
     "name": "stdout",
     "output_type": "stream",
     "text": [
      "Columns needed: 54\n"
     ]
    }
   ],
   "source": [
    "columns_need = ['loan_amnt',\n",
    "                'funded_amnt', 'funded_amnt_inv',\n",
    "                'term', 'int_rate',\n",
    "                'installment', 'grade',\n",
    "                'emp_length', 'home_ownership',\n",
    "                'annual_inc', 'verification_status', \n",
    "                'loan_status', 'pymnt_plan',\n",
    "                'addr_state', 'dti',\n",
    "                'delinq_2yrs', 'fico_range_low',\n",
    "                'fico_range_high', 'pub_rec',\n",
    "                'revol_bal', 'revol_util',\n",
    "                'initial_list_status', \n",
    "                'total_pymnt', 'total_pymnt_inv',\n",
    "                'total_rec_prncp', 'total_rec_int',\n",
    "                'policy_code', 'application_type',\n",
    "                'acc_now_delinq',\n",
    "                'tot_cur_bal', 'total_rev_hi_lim',\n",
    "                'avg_cur_bal', 'bc_open_to_buy',\n",
    "                'bc_util', 'chargeoff_within_12_mths', \n",
    "                'delinq_amnt', 'mort_acc',\n",
    "                'num_accts_ever_120_pd',\n",
    "                'num_actv_bc_tl', 'num_actv_rev_tl',\n",
    "                'num_bc_sats', 'num_bc_tl',\n",
    "                'num_il_tl', 'num_op_rev_tl',\n",
    "                'num_rev_accts', 'num_rev_tl_bal_gt_0',\n",
    "                'num_sats', 'pct_tl_nvr_dlq',\n",
    "                'pub_rec_bankruptcies',\n",
    "                'tax_liens', 'tot_hi_cred_lim', \n",
    "                'total_bal_ex_mort', 'total_bc_limit',\n",
    "                'total_il_high_credit_limit'\n",
    "]\n",
    "\n",
    "print(f'Columns needed: {len(columns_need)}')"
   ]
  },
  {
   "cell_type": "code",
   "execution_count": 11,
   "metadata": {},
   "outputs": [
    {
     "name": "stdout",
     "output_type": "stream",
     "text": [
      "Number of Columns left: 54\n"
     ]
    }
   ],
   "source": [
    "data = applicants_data.select(columns_need)\n",
    "print(f'Number of Columns left: {len(data.columns)}')"
   ]
  },
  {
   "cell_type": "markdown",
   "metadata": {},
   "source": [
    "# Analysing Data"
   ]
  },
  {
   "cell_type": "markdown",
   "source": [
    "Check which columns needs to clean and what data type the columns need to be converted."
   ],
   "metadata": {
    "collapsed": false,
    "pycharm": {
     "name": "#%% md\n"
    }
   }
  },
  {
   "cell_type": "code",
   "execution_count": 12,
   "metadata": {},
   "outputs": [],
   "source": [
    "from pyspark.sql.functions import desc"
   ]
  },
  {
   "cell_type": "code",
   "execution_count": 13,
   "metadata": {},
   "outputs": [
    {
     "name": "stdout",
     "output_type": "stream",
     "text": [
      "root\n",
      " |-- loan_amnt: double (nullable = true)\n",
      " |-- funded_amnt: double (nullable = true)\n",
      " |-- funded_amnt_inv: double (nullable = true)\n",
      " |-- term: string (nullable = true)\n",
      " |-- int_rate: string (nullable = true)\n",
      " |-- installment: double (nullable = true)\n",
      " |-- grade: string (nullable = true)\n",
      " |-- emp_length: string (nullable = true)\n",
      " |-- home_ownership: string (nullable = true)\n",
      " |-- annual_inc: string (nullable = true)\n",
      " |-- verification_status: string (nullable = true)\n",
      " |-- loan_status: string (nullable = true)\n",
      " |-- pymnt_plan: string (nullable = true)\n",
      " |-- addr_state: string (nullable = true)\n",
      " |-- dti: string (nullable = true)\n",
      " |-- delinq_2yrs: string (nullable = true)\n",
      " |-- fico_range_low: string (nullable = true)\n",
      " |-- fico_range_high: string (nullable = true)\n",
      " |-- pub_rec: string (nullable = true)\n",
      " |-- revol_bal: string (nullable = true)\n",
      " |-- revol_util: string (nullable = true)\n",
      " |-- initial_list_status: string (nullable = true)\n",
      " |-- total_pymnt: string (nullable = true)\n",
      " |-- total_pymnt_inv: string (nullable = true)\n",
      " |-- total_rec_prncp: string (nullable = true)\n",
      " |-- total_rec_int: string (nullable = true)\n",
      " |-- policy_code: string (nullable = true)\n",
      " |-- application_type: string (nullable = true)\n",
      " |-- acc_now_delinq: string (nullable = true)\n",
      " |-- tot_cur_bal: string (nullable = true)\n",
      " |-- total_rev_hi_lim: string (nullable = true)\n",
      " |-- avg_cur_bal: string (nullable = true)\n",
      " |-- bc_open_to_buy: double (nullable = true)\n",
      " |-- bc_util: string (nullable = true)\n",
      " |-- chargeoff_within_12_mths: double (nullable = true)\n",
      " |-- delinq_amnt: double (nullable = true)\n",
      " |-- mort_acc: double (nullable = true)\n",
      " |-- num_accts_ever_120_pd: double (nullable = true)\n",
      " |-- num_actv_bc_tl: double (nullable = true)\n",
      " |-- num_actv_rev_tl: double (nullable = true)\n",
      " |-- num_bc_sats: double (nullable = true)\n",
      " |-- num_bc_tl: double (nullable = true)\n",
      " |-- num_il_tl: double (nullable = true)\n",
      " |-- num_op_rev_tl: double (nullable = true)\n",
      " |-- num_rev_accts: double (nullable = true)\n",
      " |-- num_rev_tl_bal_gt_0: double (nullable = true)\n",
      " |-- num_sats: double (nullable = true)\n",
      " |-- pct_tl_nvr_dlq: double (nullable = true)\n",
      " |-- pub_rec_bankruptcies: double (nullable = true)\n",
      " |-- tax_liens: double (nullable = true)\n",
      " |-- tot_hi_cred_lim: double (nullable = true)\n",
      " |-- total_bal_ex_mort: double (nullable = true)\n",
      " |-- total_bc_limit: double (nullable = true)\n",
      " |-- total_il_high_credit_limit: double (nullable = true)\n",
      "\n"
     ]
    }
   ],
   "source": [
    "data.printSchema()"
   ]
  },
  {
   "cell_type": "code",
   "execution_count": 14,
   "metadata": {},
   "outputs": [
    {
     "name": "stdout",
     "output_type": "stream",
     "text": [
      "+-------+------------------+------------------+------------------+------------------+------------------+\n",
      "|summary|         loan_amnt|       funded_amnt|   funded_amnt_inv|          int_rate|       installment|\n",
      "+-------+------------------+------------------+------------------+------------------+------------------+\n",
      "|  count|           2650517|           2650517|           2650517|           2650517|           2650517|\n",
      "|   mean|15265.709010732624|15261.216556996238|15245.323552900643|13.092829115115583|450.39694753891115|\n",
      "| stddev| 9389.330622863554|   9387.9057302899|  9391.76261888991| 4.832138364571083|271.04262288987746|\n",
      "|    min|             500.0|             500.0|               0.0|              10.0|              4.93|\n",
      "|    max|           40000.0|           40000.0|           40000.0|              9.99|           1719.83|\n",
      "+-------+------------------+------------------+------------------+------------------+------------------+\n",
      "\n"
     ]
    }
   ],
   "source": [
    "# Check if the following columns are within valid range.\n",
    "\n",
    "data.describe(['loan_amnt', 'funded_amnt', 'funded_amnt_inv', 'int_rate', 'installment']).show()"
   ]
  },
  {
   "cell_type": "code",
   "execution_count": 15,
   "metadata": {},
   "outputs": [
    {
     "name": "stdout",
     "output_type": "stream",
     "text": [
      "+----------+\n",
      "|      term|\n",
      "+----------+\n",
      "| 36 months|\n",
      "|      null|\n",
      "| 60 months|\n",
      "+----------+\n",
      "\n"
     ]
    }
   ],
   "source": [
    "# term\n",
    "data.select('term').distinct().show()"
   ]
  },
  {
   "cell_type": "code",
   "execution_count": 16,
   "metadata": {},
   "outputs": [
    {
     "name": "stdout",
     "output_type": "stream",
     "text": [
      "+-----+\n",
      "|grade|\n",
      "+-----+\n",
      "|    F|\n",
      "| null|\n",
      "|    E|\n",
      "|    B|\n",
      "|    D|\n",
      "|    C|\n",
      "|    A|\n",
      "|    G|\n",
      "+-----+\n",
      "\n"
     ]
    }
   ],
   "source": [
    "# grade\n",
    "data.select('grade').distinct().show()"
   ]
  },
  {
   "cell_type": "code",
   "execution_count": 17,
   "metadata": {},
   "outputs": [
    {
     "name": "stdout",
     "output_type": "stream",
     "text": [
      "+----------+------+\n",
      "|emp_length| count|\n",
      "+----------+------+\n",
      "|   5 years|164437|\n",
      "|   9 years| 88764|\n",
      "| reactors\"|     1|\n",
      "|      null|181960|\n",
      "|    1 year|175093|\n",
      "|   2 years|237167|\n",
      "|   7 years|106311|\n",
      "|   8 years|104055|\n",
      "|   4 years|159896|\n",
      "|   6 years|118842|\n",
      "|   3 years|210773|\n",
      "| 10+ years|865494|\n",
      "|  < 1 year|237757|\n",
      "+----------+------+\n",
      "\n"
     ]
    }
   ],
   "source": [
    "# emp_length\n",
    "data.groupBy('emp_length').count().show()"
   ]
  },
  {
   "cell_type": "code",
   "execution_count": 18,
   "metadata": {},
   "outputs": [
    {
     "name": "stdout",
     "output_type": "stream",
     "text": [
      "+--------------+-------+\n",
      "|home_ownership|  count|\n",
      "+--------------+-------+\n",
      "|          null|     33|\n",
      "|           OWN| 298621|\n",
      "|          RENT|1044044|\n",
      "|       2 years|      1|\n",
      "|      MORTGAGE|1304266|\n",
      "|           ANY|   3348|\n",
      "|         OTHER|    182|\n",
      "|          NONE|     55|\n",
      "+--------------+-------+\n",
      "\n"
     ]
    }
   ],
   "source": [
    "# home_ownership\n",
    "data.groupBy('home_ownership').count().show()"
   ]
  },
  {
   "cell_type": "code",
   "execution_count": 19,
   "metadata": {},
   "outputs": [
    {
     "name": "stdout",
     "output_type": "stream",
     "text": [
      "+----------+\n",
      "|annual_inc|\n",
      "+----------+\n",
      "|  MORTGAGE|\n",
      "|  999999.0|\n",
      "|   99999.9|\n",
      "|  99999.85|\n",
      "|  99999.84|\n",
      "|  99999.84|\n",
      "|   99999.0|\n",
      "|   99999.0|\n",
      "|   99999.0|\n",
      "|   99999.0|\n",
      "|   99999.0|\n",
      "|   99999.0|\n",
      "|   99999.0|\n",
      "|   99999.0|\n",
      "|   99999.0|\n",
      "|   99999.0|\n",
      "|   99999.0|\n",
      "|   99999.0|\n",
      "|   99999.0|\n",
      "|   99999.0|\n",
      "+----------+\n",
      "only showing top 20 rows\n",
      "\n"
     ]
    }
   ],
   "source": [
    "# annual_inc\n",
    "data.select('annual_inc').orderBy(desc('annual_inc')).show() # need to convert in double"
   ]
  },
  {
   "cell_type": "markdown",
   "source": [
    "The 'annual_inc' columns contain some arbitrary string values that need to be converted into double data type.\n"
   ],
   "metadata": {
    "collapsed": false,
    "pycharm": {
     "name": "#%% md\n"
    }
   }
  },
  {
   "cell_type": "code",
   "execution_count": 20,
   "metadata": {},
   "outputs": [
    {
     "name": "stdout",
     "output_type": "stream",
     "text": [
      "+-------------------+\n",
      "|verification_status|\n",
      "+-------------------+\n",
      "|            38000.0|\n",
      "|           Verified|\n",
      "|               null|\n",
      "|    Source Verified|\n",
      "|       Not Verified|\n",
      "+-------------------+\n",
      "\n"
     ]
    }
   ],
   "source": [
    "# verification_status\n",
    "data.select('verification_status').distinct().show()"
   ]
  },
  {
   "cell_type": "code",
   "execution_count": 21,
   "metadata": {},
   "outputs": [
    {
     "name": "stdout",
     "output_type": "stream",
     "text": [
      "+--------------------+\n",
      "|         loan_status|\n",
      "+--------------------+\n",
      "|          Fully Paid|\n",
      "|             Default|\n",
      "|                null|\n",
      "|     In Grace Period|\n",
      "|Does not meet the...|\n",
      "|         Charged Off|\n",
      "|            Oct-2015|\n",
      "|  Late (31-120 days)|\n",
      "|             Current|\n",
      "|Does not meet the...|\n",
      "|   Late (16-30 days)|\n",
      "+--------------------+\n",
      "\n"
     ]
    }
   ],
   "source": [
    "# loan_status\n",
    "data.select('loan_status').distinct().show()"
   ]
  },
  {
   "cell_type": "code",
   "execution_count": 22,
   "metadata": {},
   "outputs": [
    {
     "name": "stdout",
     "output_type": "stream",
     "text": [
      "+-----------+\n",
      "| pymnt_plan|\n",
      "+-----------+\n",
      "|       null|\n",
      "|          n|\n",
      "|Charged Off|\n",
      "|          y|\n",
      "+-----------+\n",
      "\n"
     ]
    }
   ],
   "source": [
    "# pymnt_plan\n",
    "data.select('pymnt_plan').distinct().show()"
   ]
  },
  {
   "cell_type": "code",
   "execution_count": 23,
   "metadata": {},
   "outputs": [
    {
     "data": {
      "text/plain": [
       "271"
      ]
     },
     "execution_count": 23,
     "metadata": {},
     "output_type": "execute_result"
    }
   ],
   "source": [
    "# addr_state\n",
    "data.select('addr_state').distinct().count()"
   ]
  },
  {
   "cell_type": "markdown",
   "source": [
    "The 'addr_state' column contains some arbitrary values because the number if states is more than the valid states in US."
   ],
   "metadata": {
    "collapsed": false,
    "pycharm": {
     "name": "#%% md\n"
    }
   }
  },
  {
   "cell_type": "code",
   "execution_count": 24,
   "metadata": {},
   "outputs": [],
   "source": [
    "# Specifing valid USA states\n",
    "states = ['AL', 'AK', 'AZ', 'AR', 'CA', 'CO', 'CT', 'DE', 'FL', 'GA', 'HI', 'ID', 'IL', 'IN', 'IA',\n",
    "          'KS', 'KY', 'LA', 'ME', 'MD', 'MA', 'MI', 'MN', 'MS', 'MO', 'MT', 'NE', 'NV', 'NH', 'NJ',\n",
    "          'NM', 'NY', 'NC', 'ND', 'OH', 'OK', 'OR', 'PA', 'RI', 'SC', 'SD', 'TN', 'TX', 'UT', 'VT',\n",
    "          'VA', 'WA', 'WV', 'WI', 'WY', 'DC']\n",
    "data = data.filter(data['addr_state'].isin(states))"
   ]
  },
  {
   "cell_type": "code",
   "execution_count": 25,
   "metadata": {},
   "outputs": [
    {
     "name": "stdout",
     "output_type": "stream",
     "text": [
      "+-------+----------------+\n",
      "|summary|             dti|\n",
      "+-------+----------------+\n",
      "|    max|           999.0|\n",
      "|  count|         2647636|\n",
      "|   mean|19.0949296126808|\n",
      "| stddev|15.2492954899586|\n",
      "|    min|            -1.0|\n",
      "+-------+----------------+\n",
      "\n"
     ]
    }
   ],
   "source": [
    "# dti\n",
    "data.describe('dti').distinct().orderBy(desc('dti')).show() # need to convert to double"
   ]
  },
  {
   "cell_type": "code",
   "execution_count": 26,
   "metadata": {},
   "outputs": [
    {
     "name": "stdout",
     "output_type": "stream",
     "text": [
      "+-------+----------------+-------------------+\n",
      "|summary|             dti|        delinq_2yrs|\n",
      "+-------+----------------+-------------------+\n",
      "|  count|         2647636|            2650232|\n",
      "|   mean|19.0949296126808|0.29613030104534244|\n",
      "| stddev|15.2492954899586| 0.8534141318110475|\n",
      "|    min|            -1.0|                0.0|\n",
      "|    max|           999.0|                9.0|\n",
      "+-------+----------------+-------------------+\n",
      "\n"
     ]
    }
   ],
   "source": [
    "data.describe(['dti', 'delinq_2yrs']).show()"
   ]
  },
  {
   "cell_type": "markdown",
   "source": [
    "'dti' cannot be negative so filtering out negative values\n"
   ],
   "metadata": {
    "collapsed": false,
    "pycharm": {
     "name": "#%% md\n"
    }
   }
  },
  {
   "cell_type": "code",
   "execution_count": 27,
   "metadata": {},
   "outputs": [],
   "source": [
    "data = data.filter(data['dti'] > 0)  # filter out negative dti values"
   ]
  },
  {
   "cell_type": "code",
   "execution_count": 28,
   "metadata": {},
   "outputs": [
    {
     "name": "stdout",
     "output_type": "stream",
     "text": [
      "+-------+-----------------+-----------------+\n",
      "|summary|   fico_range_low|  fico_range_high|\n",
      "+-------+-----------------+-----------------+\n",
      "|  count|          2634468|          2634468|\n",
      "|   mean|699.6339659468249|703.6341508038814|\n",
      "| stddev|33.27281959633915|33.27362998844954|\n",
      "|    min|            610.0|            614.0|\n",
      "|    max|            845.0|            850.0|\n",
      "+-------+-----------------+-----------------+\n",
      "\n"
     ]
    }
   ],
   "source": [
    "# fico_range_low, fico_range_high\n",
    "data.select(['fico_range_low', 'fico_range_high']).describe().show() # need to convert to double"
   ]
  },
  {
   "cell_type": "code",
   "execution_count": 29,
   "metadata": {},
   "outputs": [
    {
     "name": "stdout",
     "output_type": "stream",
     "text": [
      "+-----------+-------+\n",
      "|policy_code|  count|\n",
      "+-----------+-------+\n",
      "|        1.0|2634468|\n",
      "+-----------+-------+\n",
      "\n"
     ]
    }
   ],
   "source": [
    "# policy_code\n",
    "data.groupBy('policy_code').count().orderBy(desc('count')).show() # Can remove policy_code because it only contain\n",
    "                                                                  # value 1 \n",
    "\n",
    "# remove 'policy_code' column\n",
    "data = data.drop('policy_code')"
   ]
  },
  {
   "cell_type": "code",
   "execution_count": 30,
   "metadata": {},
   "outputs": [
    {
     "name": "stdout",
     "output_type": "stream",
     "text": [
      "+--------+-----+\n",
      "|int_rate|count|\n",
      "+--------+-----+\n",
      "|   13.87|   39|\n",
      "|    20.5| 1415|\n",
      "|   15.41| 2743|\n",
      "|   15.49| 3795|\n",
      "|   12.85| 2070|\n",
      "|   11.83|  225|\n",
      "|  28.95%|   29|\n",
      "|   14.49|16080|\n",
      "|   12.35| 2543|\n",
      "|  25.65%|  889|\n",
      "|   26.14|  134|\n",
      "|   28.69| 1411|\n",
      "|    5.42|  557|\n",
      "|  18.94%| 2004|\n",
      "|    8.49| 2796|\n",
      "|  23.40%| 1194|\n",
      "|   18.84| 1958|\n",
      "|   16.01| 5161|\n",
      "|    9.32|  168|\n",
      "|    12.8|   25|\n",
      "+--------+-----+\n",
      "only showing top 20 rows\n",
      "\n"
     ]
    }
   ],
   "source": [
    "# int_rate\n",
    "data.groupBy('int_rate').count().show()"
   ]
  },
  {
   "cell_type": "markdown",
   "metadata": {},
   "source": [
    "**Some of the values in 'int_rate' have '%' sign at the end that needs to be removed.**"
   ]
  },
  {
   "cell_type": "code",
   "execution_count": 31,
   "metadata": {},
   "outputs": [],
   "source": [
    "# remove '%' from end of the number\n",
    "data = data.withColumn(\"int_rate\", f.regexp_replace(data[\"int_rate\"], \"%\", \"\"))"
   ]
  },
  {
   "cell_type": "markdown",
   "metadata": {},
   "source": [
    "**Similary, 'revol_util' also have '%' sign in some values which can be removed **"
   ]
  },
  {
   "cell_type": "code",
   "execution_count": 32,
   "metadata": {},
   "outputs": [
    {
     "name": "stdout",
     "output_type": "stream",
     "text": [
      "+----------+-----+\n",
      "|revol_util|count|\n",
      "+----------+-----+\n",
      "|     102.0|  198|\n",
      "|      78.9| 1988|\n",
      "|      58.7| 2973|\n",
      "|      10.7| 1392|\n",
      "|       8.5| 1104|\n",
      "|      73.7| 2294|\n",
      "|      91.8| 1387|\n",
      "|     110.9|    5|\n",
      "|     118.5|    1|\n",
      "|     119.8|    1|\n",
      "|     122.2|    1|\n",
      "|    15.20%|  432|\n",
      "|   105.10%|    3|\n",
      "|      107%|    1|\n",
      "|      34.4| 2897|\n",
      "|      69.3| 2585|\n",
      "|      47.5| 2947|\n",
      "|      45.4| 2944|\n",
      "|      20.5| 2015|\n",
      "|       1.0|  896|\n",
      "+----------+-----+\n",
      "only showing top 20 rows\n",
      "\n"
     ]
    }
   ],
   "source": [
    "# revol_util\n",
    "data.groupBy('revol_util').count().show()\n",
    "\n",
    "# remove '%' from end of the number\n",
    "data = data.withColumn(\"revol_util\", f.regexp_replace(data[\"revol_util\"], \"%\", \"\"))"
   ]
  },
  {
   "cell_type": "code",
   "execution_count": 33,
   "metadata": {},
   "outputs": [
    {
     "name": "stdout",
     "output_type": "stream",
     "text": [
      "+-------+-------------------+------------------+-----------------+-----------------+------------------+\n",
      "|summary|            pub_rec|         revol_bal|       revol_util|      total_pymnt|   total_pymnt_inv|\n",
      "+-------+-------------------+------------------+-----------------+-----------------+------------------+\n",
      "|  count|            2634440|           2634468|          2632350|          2634468|           2634468|\n",
      "|   mean|0.18476412444390458|16888.801473390453|49.65538769160617|11018.45744976548|11003.349826454498|\n",
      "| stddev| 0.5417298527092995|22940.049844157882|24.71200593988717| 9719.85776999284| 9714.429928562506|\n",
      "|    min|                0.0|               0.0|                0|              0.0|               0.0|\n",
      "|    max|                9.0|           99998.0|            99.90|          9999.99|           9999.99|\n",
      "+-------+-------------------+------------------+-----------------+-----------------+------------------+\n",
      "\n"
     ]
    }
   ],
   "source": [
    "data.describe(['pub_rec', 'revol_bal', 'revol_util', 'total_pymnt', 'total_pymnt_inv']).show()"
   ]
  },
  {
   "cell_type": "markdown",
   "metadata": {},
   "source": [
    "## Type Casting"
   ]
  },
  {
   "cell_type": "code",
   "execution_count": 34,
   "metadata": {},
   "outputs": [
    {
     "name": "stdout",
     "output_type": "stream",
     "text": [
      "root\n",
      " |-- loan_amnt: double (nullable = true)\n",
      " |-- funded_amnt: double (nullable = true)\n",
      " |-- funded_amnt_inv: double (nullable = true)\n",
      " |-- term: string (nullable = true)\n",
      " |-- int_rate: string (nullable = true)\n",
      " |-- installment: double (nullable = true)\n",
      " |-- grade: string (nullable = true)\n",
      " |-- emp_length: string (nullable = true)\n",
      " |-- home_ownership: string (nullable = true)\n",
      " |-- annual_inc: string (nullable = true)\n",
      " |-- verification_status: string (nullable = true)\n",
      " |-- loan_status: string (nullable = true)\n",
      " |-- pymnt_plan: string (nullable = true)\n",
      " |-- addr_state: string (nullable = true)\n",
      " |-- dti: string (nullable = true)\n",
      " |-- delinq_2yrs: string (nullable = true)\n",
      " |-- fico_range_low: string (nullable = true)\n",
      " |-- fico_range_high: string (nullable = true)\n",
      " |-- pub_rec: string (nullable = true)\n",
      " |-- revol_bal: string (nullable = true)\n",
      " |-- revol_util: string (nullable = true)\n",
      " |-- initial_list_status: string (nullable = true)\n",
      " |-- total_pymnt: string (nullable = true)\n",
      " |-- total_pymnt_inv: string (nullable = true)\n",
      " |-- total_rec_prncp: string (nullable = true)\n",
      " |-- total_rec_int: string (nullable = true)\n",
      " |-- application_type: string (nullable = true)\n",
      " |-- acc_now_delinq: string (nullable = true)\n",
      " |-- tot_cur_bal: string (nullable = true)\n",
      " |-- total_rev_hi_lim: string (nullable = true)\n",
      " |-- avg_cur_bal: string (nullable = true)\n",
      " |-- bc_open_to_buy: double (nullable = true)\n",
      " |-- bc_util: string (nullable = true)\n",
      " |-- chargeoff_within_12_mths: double (nullable = true)\n",
      " |-- delinq_amnt: double (nullable = true)\n",
      " |-- mort_acc: double (nullable = true)\n",
      " |-- num_accts_ever_120_pd: double (nullable = true)\n",
      " |-- num_actv_bc_tl: double (nullable = true)\n",
      " |-- num_actv_rev_tl: double (nullable = true)\n",
      " |-- num_bc_sats: double (nullable = true)\n",
      " |-- num_bc_tl: double (nullable = true)\n",
      " |-- num_il_tl: double (nullable = true)\n",
      " |-- num_op_rev_tl: double (nullable = true)\n",
      " |-- num_rev_accts: double (nullable = true)\n",
      " |-- num_rev_tl_bal_gt_0: double (nullable = true)\n",
      " |-- num_sats: double (nullable = true)\n",
      " |-- pct_tl_nvr_dlq: double (nullable = true)\n",
      " |-- pub_rec_bankruptcies: double (nullable = true)\n",
      " |-- tax_liens: double (nullable = true)\n",
      " |-- tot_hi_cred_lim: double (nullable = true)\n",
      " |-- total_bal_ex_mort: double (nullable = true)\n",
      " |-- total_bc_limit: double (nullable = true)\n",
      " |-- total_il_high_credit_limit: double (nullable = true)\n",
      "\n"
     ]
    }
   ],
   "source": [
    "data.printSchema()"
   ]
  },
  {
   "cell_type": "markdown",
   "metadata": {},
   "source": [
    "Converting columns to Appropriate Data type"
   ]
  },
  {
   "cell_type": "code",
   "execution_count": 35,
   "metadata": {},
   "outputs": [],
   "source": [
    "# Columns to cast in Double\n",
    "toDouble = ['int_rate',\n",
    "            'annual_inc',\n",
    "            'dti',\n",
    "            'fico_range_low',\n",
    "            'fico_range_high',\n",
    "            'revol_bal',\n",
    "            'revol_util',\n",
    "            'total_pymnt',\n",
    "            'total_pymnt_inv',\n",
    "            'total_rec_prncp',\n",
    "            'total_rec_int',\n",
    "            'tot_cur_bal',\n",
    "            'total_rev_hi_lim',\n",
    "            'avg_cur_bal',\n",
    "            'bc_util',\n",
    "            'acc_now_delinq'\n",
    "           ]\n",
    "\n",
    "# Columns to cast in Int\n",
    "toInt = ['delinq_2yrs',\n",
    "         'pub_rec']\n",
    "            "
   ]
  },
  {
   "cell_type": "code",
   "execution_count": 36,
   "metadata": {},
   "outputs": [],
   "source": [
    "from pyspark.sql.types import *\n",
    "\n",
    "#cast columns to double datatype\n",
    "for column in toDouble:\n",
    "    data = data.withColumn(column, data[column].cast(DoubleType()))"
   ]
  },
  {
   "cell_type": "code",
   "execution_count": 37,
   "metadata": {},
   "outputs": [
    {
     "name": "stdout",
     "output_type": "stream",
     "text": [
      "root\n",
      " |-- loan_amnt: double (nullable = true)\n",
      " |-- funded_amnt: double (nullable = true)\n",
      " |-- funded_amnt_inv: double (nullable = true)\n",
      " |-- term: string (nullable = true)\n",
      " |-- int_rate: double (nullable = true)\n",
      " |-- installment: double (nullable = true)\n",
      " |-- grade: string (nullable = true)\n",
      " |-- emp_length: string (nullable = true)\n",
      " |-- home_ownership: string (nullable = true)\n",
      " |-- annual_inc: double (nullable = true)\n",
      " |-- verification_status: string (nullable = true)\n",
      " |-- loan_status: string (nullable = true)\n",
      " |-- pymnt_plan: string (nullable = true)\n",
      " |-- addr_state: string (nullable = true)\n",
      " |-- dti: double (nullable = true)\n",
      " |-- delinq_2yrs: integer (nullable = true)\n",
      " |-- fico_range_low: double (nullable = true)\n",
      " |-- fico_range_high: double (nullable = true)\n",
      " |-- pub_rec: integer (nullable = true)\n",
      " |-- revol_bal: double (nullable = true)\n",
      " |-- revol_util: double (nullable = true)\n",
      " |-- initial_list_status: string (nullable = true)\n",
      " |-- total_pymnt: double (nullable = true)\n",
      " |-- total_pymnt_inv: double (nullable = true)\n",
      " |-- total_rec_prncp: double (nullable = true)\n",
      " |-- total_rec_int: double (nullable = true)\n",
      " |-- application_type: string (nullable = true)\n",
      " |-- acc_now_delinq: double (nullable = true)\n",
      " |-- tot_cur_bal: double (nullable = true)\n",
      " |-- total_rev_hi_lim: double (nullable = true)\n",
      " |-- avg_cur_bal: double (nullable = true)\n",
      " |-- bc_open_to_buy: double (nullable = true)\n",
      " |-- bc_util: double (nullable = true)\n",
      " |-- chargeoff_within_12_mths: double (nullable = true)\n",
      " |-- delinq_amnt: double (nullable = true)\n",
      " |-- mort_acc: double (nullable = true)\n",
      " |-- num_accts_ever_120_pd: double (nullable = true)\n",
      " |-- num_actv_bc_tl: double (nullable = true)\n",
      " |-- num_actv_rev_tl: double (nullable = true)\n",
      " |-- num_bc_sats: double (nullable = true)\n",
      " |-- num_bc_tl: double (nullable = true)\n",
      " |-- num_il_tl: double (nullable = true)\n",
      " |-- num_op_rev_tl: double (nullable = true)\n",
      " |-- num_rev_accts: double (nullable = true)\n",
      " |-- num_rev_tl_bal_gt_0: double (nullable = true)\n",
      " |-- num_sats: double (nullable = true)\n",
      " |-- pct_tl_nvr_dlq: double (nullable = true)\n",
      " |-- pub_rec_bankruptcies: double (nullable = true)\n",
      " |-- tax_liens: double (nullable = true)\n",
      " |-- tot_hi_cred_lim: double (nullable = true)\n",
      " |-- total_bal_ex_mort: double (nullable = true)\n",
      " |-- total_bc_limit: double (nullable = true)\n",
      " |-- total_il_high_credit_limit: double (nullable = true)\n",
      "\n"
     ]
    }
   ],
   "source": [
    "#cast columns to int datatype\n",
    "for column in toInt:\n",
    "    data = data.withColumn(column, data[column].cast(IntegerType()))\n",
    "\n",
    "data.printSchema()"
   ]
  },
  {
   "cell_type": "markdown",
   "metadata": {},
   "source": [
    "## Removing all rows with null values"
   ]
  },
  {
   "cell_type": "markdown",
   "metadata": {},
   "source": [
    "### Check the null values in each column"
   ]
  },
  {
   "cell_type": "code",
   "execution_count": 38,
   "metadata": {},
   "outputs": [
    {
     "name": "stdout",
     "output_type": "stream",
     "text": [
      "Total number of rows 2634468\n"
     ]
    }
   ],
   "source": [
    "print(f'Total number of rows {data.count()}')"
   ]
  },
  {
   "cell_type": "code",
   "execution_count": 39,
   "metadata": {},
   "outputs": [
    {
     "name": "stdout",
     "output_type": "stream",
     "text": [
      "Percentage of columns have null value: \n"
     ]
    },
    {
     "data": {
      "text/plain": [
       "{'loan_amnt': 0,\n",
       " 'funded_amnt': 0,\n",
       " 'funded_amnt_inv': 0,\n",
       " 'term': 0,\n",
       " 'int_rate': 0,\n",
       " 'installment': 0,\n",
       " 'grade': 0,\n",
       " 'emp_length': 6,\n",
       " 'home_ownership': 0,\n",
       " 'annual_inc': 0,\n",
       " 'verification_status': 0,\n",
       " 'loan_status': 0,\n",
       " 'pymnt_plan': 0,\n",
       " 'addr_state': 0,\n",
       " 'dti': 0,\n",
       " 'delinq_2yrs': 0,\n",
       " 'fico_range_low': 0,\n",
       " 'fico_range_high': 0,\n",
       " 'pub_rec': 0,\n",
       " 'revol_bal': 0,\n",
       " 'revol_util': 0,\n",
       " 'initial_list_status': 0,\n",
       " 'total_pymnt': 0,\n",
       " 'total_pymnt_inv': 0,\n",
       " 'total_rec_prncp': 0,\n",
       " 'total_rec_int': 0,\n",
       " 'application_type': 0,\n",
       " 'acc_now_delinq': 0,\n",
       " 'tot_cur_bal': 2,\n",
       " 'total_rev_hi_lim': 2,\n",
       " 'avg_cur_bal': 2,\n",
       " 'bc_open_to_buy': 2,\n",
       " 'bc_util': 2,\n",
       " 'chargeoff_within_12_mths': 0,\n",
       " 'delinq_amnt': 0,\n",
       " 'mort_acc': 1,\n",
       " 'num_accts_ever_120_pd': 2,\n",
       " 'num_actv_bc_tl': 2,\n",
       " 'num_actv_rev_tl': 2,\n",
       " 'num_bc_sats': 2,\n",
       " 'num_bc_tl': 2,\n",
       " 'num_il_tl': 2,\n",
       " 'num_op_rev_tl': 2,\n",
       " 'num_rev_accts': 2,\n",
       " 'num_rev_tl_bal_gt_0': 2,\n",
       " 'num_sats': 2,\n",
       " 'pct_tl_nvr_dlq': 2,\n",
       " 'pub_rec_bankruptcies': 0,\n",
       " 'tax_liens': 0,\n",
       " 'tot_hi_cred_lim': 2,\n",
       " 'total_bal_ex_mort': 1,\n",
       " 'total_bc_limit': 1,\n",
       " 'total_il_high_credit_limit': 2}"
      ]
     },
     "execution_count": 39,
     "metadata": {},
     "output_type": "execute_result"
    }
   ],
   "source": [
    "df_null = data.agg(*[f.count(f.when(f.isnull(c), c)).alias(c) for c in data.columns[:]])\n",
    "null_values = df_null.head(1)[0]\n",
    "df_null_to_remove = null_values.asDict() \n",
    "\n",
    "for i in df_null_to_remove.keys():\n",
    "    df_null_to_remove[i] = (df_null_to_remove[i]*100 // total_rows)\n",
    "print('Percentage of columns have null value: ')\n",
    "df_null_to_remove"
   ]
  },
  {
   "cell_type": "code",
   "execution_count": 40,
   "metadata": {},
   "outputs": [],
   "source": [
    "final_data = data.na.drop()"
   ]
  },
  {
   "cell_type": "code",
   "execution_count": 41,
   "metadata": {},
   "outputs": [
    {
     "name": "stdout",
     "output_type": "stream",
     "text": [
      "Number of Columns: 53\n",
      "Number of Rows: 2362633\n"
     ]
    }
   ],
   "source": [
    "total_final_data = final_data.count()\n",
    "print(f'Number of Columns: {len(final_data.columns)}')\n",
    "print(f'Number of Rows: {total_final_data}')"
   ]
  },
  {
   "cell_type": "code",
   "execution_count": 42,
   "metadata": {},
   "outputs": [
    {
     "name": "stdout",
     "output_type": "stream",
     "text": [
      "Data loss after cleaning: 10%\n"
     ]
    }
   ],
   "source": [
    "print(f'Data loss after cleaning: {((total_rows-total_final_data)*100) //total_rows }%')"
   ]
  },
  {
   "cell_type": "markdown",
   "metadata": {},
   "source": [
    "## Save Cleaned dataframe to csv file"
   ]
  },
  {
   "cell_type": "code",
   "execution_count": 43,
   "metadata": {},
   "outputs": [],
   "source": [
    "final_data.coalesce(1).write.mode('overwrite').option('header', 'true').csv('Data/CleanedDataOutput')"
   ]
  }
 ],
 "metadata": {
  "kernelspec": {
   "display_name": "Python 3",
   "language": "python",
   "name": "python3"
  },
  "language_info": {
   "codemirror_mode": {
    "name": "ipython",
    "version": 3
   },
   "file_extension": ".py",
   "mimetype": "text/x-python",
   "name": "python",
   "nbconvert_exporter": "python",
   "pygments_lexer": "ipython3",
   "version": "3.8.4"
  },
  "pycharm": {
   "stem_cell": {
    "cell_type": "raw",
    "source": [],
    "metadata": {
     "collapsed": false
    }
   }
  }
 },
 "nbformat": 4,
 "nbformat_minor": 4
}